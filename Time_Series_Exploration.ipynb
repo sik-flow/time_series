{
 "cells": [
  {
   "cell_type": "code",
   "execution_count": 33,
   "metadata": {},
   "outputs": [],
   "source": [
    "import pandas as pd\n",
    "import matplotlib.pyplot as plt"
   ]
  },
  {
   "cell_type": "markdown",
   "metadata": {},
   "source": [
    "Data from [here](https://data.kcmo.org/Crime/KCPD-Crime-Data-2019/pxaa-ahcm)"
   ]
  },
  {
   "cell_type": "code",
   "execution_count": 34,
   "metadata": {},
   "outputs": [],
   "source": [
    "df = pd.read_csv('../../Data/KCPD_Crime_Data_2019.csv')"
   ]
  },
  {
   "cell_type": "code",
   "execution_count": 35,
   "metadata": {},
   "outputs": [
    {
     "data": {
      "text/html": [
       "<div>\n",
       "<style scoped>\n",
       "    .dataframe tbody tr th:only-of-type {\n",
       "        vertical-align: middle;\n",
       "    }\n",
       "\n",
       "    .dataframe tbody tr th {\n",
       "        vertical-align: top;\n",
       "    }\n",
       "\n",
       "    .dataframe thead th {\n",
       "        text-align: right;\n",
       "    }\n",
       "</style>\n",
       "<table border=\"1\" class=\"dataframe\">\n",
       "  <thead>\n",
       "    <tr style=\"text-align: right;\">\n",
       "      <th></th>\n",
       "      <th>Report_No</th>\n",
       "      <th>Reported_Date</th>\n",
       "      <th>Reported_Time</th>\n",
       "      <th>From_Date</th>\n",
       "      <th>From_Time</th>\n",
       "      <th>To_Date</th>\n",
       "      <th>To_Time</th>\n",
       "      <th>Offense</th>\n",
       "      <th>IBRS</th>\n",
       "      <th>Description</th>\n",
       "      <th>...</th>\n",
       "      <th>Zip Code</th>\n",
       "      <th>Rep_Dist</th>\n",
       "      <th>Area</th>\n",
       "      <th>DVFlag</th>\n",
       "      <th>Involvement</th>\n",
       "      <th>Race</th>\n",
       "      <th>Sex</th>\n",
       "      <th>Age</th>\n",
       "      <th>Firearm Used Flag</th>\n",
       "      <th>Location</th>\n",
       "    </tr>\n",
       "  </thead>\n",
       "  <tbody>\n",
       "    <tr>\n",
       "      <td>0</td>\n",
       "      <td>KC19019972</td>\n",
       "      <td>03/19/2019</td>\n",
       "      <td>08:48</td>\n",
       "      <td>03/19/2019</td>\n",
       "      <td>08:48</td>\n",
       "      <td>03/19/2019</td>\n",
       "      <td>09:33</td>\n",
       "      <td>Vehicular – Non-Injury</td>\n",
       "      <td>NaN</td>\n",
       "      <td>NaN</td>\n",
       "      <td>...</td>\n",
       "      <td>64161.0</td>\n",
       "      <td>PC1239</td>\n",
       "      <td>SCP</td>\n",
       "      <td>N</td>\n",
       "      <td>ARR CHA VDR</td>\n",
       "      <td>W</td>\n",
       "      <td>F</td>\n",
       "      <td>41.0</td>\n",
       "      <td>False</td>\n",
       "      <td>NaN</td>\n",
       "    </tr>\n",
       "    <tr>\n",
       "      <td>1</td>\n",
       "      <td>KC19020439</td>\n",
       "      <td>03/20/2019</td>\n",
       "      <td>17:11</td>\n",
       "      <td>03/20/2019</td>\n",
       "      <td>17:30</td>\n",
       "      <td>NaN</td>\n",
       "      <td>NaN</td>\n",
       "      <td>City/Municipal Warrant Arrest</td>\n",
       "      <td>NaN</td>\n",
       "      <td>NaN</td>\n",
       "      <td>...</td>\n",
       "      <td>64068.0</td>\n",
       "      <td>NaN</td>\n",
       "      <td>OSPD</td>\n",
       "      <td>N</td>\n",
       "      <td>ARR CHA SUS</td>\n",
       "      <td>W</td>\n",
       "      <td>M</td>\n",
       "      <td>31.0</td>\n",
       "      <td>False</td>\n",
       "      <td>NaN</td>\n",
       "    </tr>\n",
       "    <tr>\n",
       "      <td>2</td>\n",
       "      <td>KC19021179</td>\n",
       "      <td>03/23/2019</td>\n",
       "      <td>09:40</td>\n",
       "      <td>03/23/2019</td>\n",
       "      <td>09:40</td>\n",
       "      <td>NaN</td>\n",
       "      <td>NaN</td>\n",
       "      <td>Vehicular – Injury</td>\n",
       "      <td>NaN</td>\n",
       "      <td>NaN</td>\n",
       "      <td>...</td>\n",
       "      <td>64155.0</td>\n",
       "      <td>PC0277</td>\n",
       "      <td>NPD</td>\n",
       "      <td>N</td>\n",
       "      <td>ARR CHA VDR</td>\n",
       "      <td>W</td>\n",
       "      <td>M</td>\n",
       "      <td>41.0</td>\n",
       "      <td>False</td>\n",
       "      <td>NaN</td>\n",
       "    </tr>\n",
       "    <tr>\n",
       "      <td>3</td>\n",
       "      <td>KC19021555</td>\n",
       "      <td>03/25/2019</td>\n",
       "      <td>07:35</td>\n",
       "      <td>03/25/2019</td>\n",
       "      <td>09:09</td>\n",
       "      <td>NaN</td>\n",
       "      <td>NaN</td>\n",
       "      <td>Possession/Sale/Distribution of a Controlled S...</td>\n",
       "      <td>35A</td>\n",
       "      <td>Drug / Narcotic Violations</td>\n",
       "      <td>...</td>\n",
       "      <td>64108.0</td>\n",
       "      <td>PJ1831</td>\n",
       "      <td>CPD</td>\n",
       "      <td>N</td>\n",
       "      <td>ARR CHA SUS</td>\n",
       "      <td>B</td>\n",
       "      <td>M</td>\n",
       "      <td>31.0</td>\n",
       "      <td>False</td>\n",
       "      <td>NaN</td>\n",
       "    </tr>\n",
       "    <tr>\n",
       "      <td>4</td>\n",
       "      <td>KC19021815</td>\n",
       "      <td>03/26/2019</td>\n",
       "      <td>06:04</td>\n",
       "      <td>03/26/2019</td>\n",
       "      <td>07:20</td>\n",
       "      <td>03/26/2019</td>\n",
       "      <td>08:00</td>\n",
       "      <td>Stealing – Shoplift</td>\n",
       "      <td>23C</td>\n",
       "      <td>Shoplifting</td>\n",
       "      <td>...</td>\n",
       "      <td>64133.0</td>\n",
       "      <td>PJ3601</td>\n",
       "      <td>EPD</td>\n",
       "      <td>N</td>\n",
       "      <td>VIC</td>\n",
       "      <td>NaN</td>\n",
       "      <td>NaN</td>\n",
       "      <td>NaN</td>\n",
       "      <td>False</td>\n",
       "      <td>NaN</td>\n",
       "    </tr>\n",
       "  </tbody>\n",
       "</table>\n",
       "<p>5 rows × 23 columns</p>\n",
       "</div>"
      ],
      "text/plain": [
       "    Report_No Reported_Date Reported_Time   From_Date From_Time     To_Date  \\\n",
       "0  KC19019972    03/19/2019         08:48  03/19/2019     08:48  03/19/2019   \n",
       "1  KC19020439    03/20/2019         17:11  03/20/2019     17:30         NaN   \n",
       "2  KC19021179    03/23/2019         09:40  03/23/2019     09:40         NaN   \n",
       "3  KC19021555    03/25/2019         07:35  03/25/2019     09:09         NaN   \n",
       "4  KC19021815    03/26/2019         06:04  03/26/2019     07:20  03/26/2019   \n",
       "\n",
       "  To_Time                                            Offense IBRS  \\\n",
       "0   09:33                             Vehicular – Non-Injury  NaN   \n",
       "1     NaN                      City/Municipal Warrant Arrest  NaN   \n",
       "2     NaN                                 Vehicular – Injury  NaN   \n",
       "3     NaN  Possession/Sale/Distribution of a Controlled S...  35A   \n",
       "4   08:00                                Stealing – Shoplift  23C   \n",
       "\n",
       "                  Description  ... Zip Code Rep_Dist  Area  DVFlag  \\\n",
       "0                         NaN  ...  64161.0   PC1239   SCP       N   \n",
       "1                         NaN  ...  64068.0      NaN  OSPD       N   \n",
       "2                         NaN  ...  64155.0   PC0277   NPD       N   \n",
       "3  Drug / Narcotic Violations  ...  64108.0   PJ1831   CPD       N   \n",
       "4                 Shoplifting  ...  64133.0   PJ3601   EPD       N   \n",
       "\n",
       "   Involvement Race  Sex   Age Firearm Used Flag Location  \n",
       "0  ARR CHA VDR    W    F  41.0             False      NaN  \n",
       "1  ARR CHA SUS    W    M  31.0             False      NaN  \n",
       "2  ARR CHA VDR    W    M  41.0             False      NaN  \n",
       "3  ARR CHA SUS    B    M  31.0             False      NaN  \n",
       "4          VIC  NaN  NaN   NaN             False      NaN  \n",
       "\n",
       "[5 rows x 23 columns]"
      ]
     },
     "execution_count": 35,
     "metadata": {},
     "output_type": "execute_result"
    }
   ],
   "source": [
    "df.head()"
   ]
  },
  {
   "cell_type": "code",
   "execution_count": null,
   "metadata": {},
   "outputs": [],
   "source": []
  },
  {
   "cell_type": "code",
   "execution_count": null,
   "metadata": {},
   "outputs": [],
   "source": []
  },
  {
   "cell_type": "code",
   "execution_count": null,
   "metadata": {},
   "outputs": [],
   "source": []
  },
  {
   "cell_type": "markdown",
   "metadata": {},
   "source": [
    "### What is a Time Series?"
   ]
  },
  {
   "cell_type": "markdown",
   "metadata": {},
   "source": [
    "A time series is a sequence of numerical data points in successive order."
   ]
  },
  {
   "cell_type": "markdown",
   "metadata": {
    "heading_collapsed": true
   },
   "source": [
    "## Stationarity"
   ]
  },
  {
   "cell_type": "markdown",
   "metadata": {
    "hidden": true
   },
   "source": [
    "A time series is said to be stationary if its statistical properties such as mean, variance, etc. remain constant over time. \n",
    "\n",
    "Why is it important? Because most time series models work on the assumption that **the time series are stationary**."
   ]
  },
  {
   "cell_type": "markdown",
   "metadata": {
    "hidden": true
   },
   "source": [
    "Here's a dataset from Learn.co, lets see how it does with the Dickey Fuller Test "
   ]
  },
  {
   "cell_type": "code",
   "execution_count": 64,
   "metadata": {
    "hidden": true
   },
   "outputs": [
    {
     "data": {
      "image/png": "[encoded data removed]",
      "text/plain": [
       "<Figure size 864x432 with 1 Axes>"
      ]
     },
     "metadata": {
      "needs_background": "light"
     },
     "output_type": "display_data"
    }
   ],
   "source": [
    "import numpy as np\n",
    "\n",
    "years = pd.date_range('2012-01', periods=72, freq='M')\n",
    "index = pd.DatetimeIndex(years)\n",
    "\n",
    "np.random.seed(3456)\n",
    "sales= np.random.randint(-4, high=4, size=72)\n",
    "bigger = np.array([0,0,0,0,0,0,0,0,0,1,1,1,1,1,1,1,1,1,1,1,3,3,3,3,\n",
    "                   3,3,3,3,3,3,3,3,7,7,7,7,7,7,7,7,7,7,7,\n",
    "                   11,11,11,11,11,11,11,11,11,11,18,18,18,\n",
    "                   18,18,18,18,18,18,26,26,26,26,26,36,36,36,36,36])\n",
    "data = pd.Series(sales+bigger+6, index=index)\n",
    "ts = data\n",
    "fig = plt.figure(figsize=(12,6))\n",
    "plt.plot(data)\n",
    "plt.xlabel('month', fontsize=16)\n",
    "plt.ylabel('monthly sales', fontsize=16)\n",
    "plt.show()"
   ]
  },
  {
   "cell_type": "markdown",
   "metadata": {
    "hidden": true
   },
   "source": [
    "Examples of [Non-Stationarity](https://learn.co/tracks/module-4-data-science-career-2-1/big-data-deep-learning-and-natural-language-processing/section-37-working-with-time-series-data/types-of-trends)"
   ]
  },
  {
   "cell_type": "markdown",
   "metadata": {
    "hidden": true
   },
   "source": [
    "<img src=\"images/trendseasonal.png\" alt=\"Drawing\" style=\"width: 800px;\"/>"
   ]
  },
  {
   "cell_type": "markdown",
   "metadata": {
    "heading_collapsed": true
   },
   "source": [
    "## Further Details \n",
    "- https://machinelearningmastery.com/decompose-time-series-data-trend-seasonality/#:~:text=Trend%3A%20The%20increasing%20or%20decreasing,random%20variation%20in%20the%20series."
   ]
  }
 ],
 "metadata": {
  "kernelspec": {
   "display_name": "Python 3",
   "language": "python",
   "name": "python3"
  },
  "language_info": {
   "codemirror_mode": {
    "name": "ipython",
    "version": 3
   },
   "file_extension": ".py",
   "mimetype": "text/x-python",
   "name": "python",
   "nbconvert_exporter": "python",
   "pygments_lexer": "ipython3",
   "version": "3.6.9"
  }
 },
 "nbformat": 4,
 "nbformat_minor": 2
}
