{
 "cells": [
  {
   "cell_type": "markdown",
   "metadata": {},
   "source": [
    "## Agenda \n",
    "1. AR Models\n",
    "2. MA Models\n",
    "3. ARMA Models\n",
    "4. ARIMA Models"
   ]
  },
  {
   "cell_type": "markdown",
   "metadata": {
    "heading_collapsed": true
   },
   "source": [
    "## Autoregressive Models (AR)"
   ]
  },
  {
   "cell_type": "markdown",
   "metadata": {
    "hidden": true
   },
   "source": [
    "An autoregressive (AR) model is when a value from a time series is regressed on previous values from the same time series.\n",
    "\n",
    "In words, the mathematical idea is the following:\n",
    "\n",
    "$$ \\text{Today = constant + slope} \\times \\text{yesterday + noise} $$\n",
    "\n",
    "Or, mathematically:\n",
    "$$\\large Y_t = \\mu + \\phi * Y_{t-1}+\\epsilon_t$$"
   ]
  },
  {
   "cell_type": "code",
   "execution_count": 89,
   "metadata": {
    "hidden": true
   },
   "outputs": [],
   "source": [
    "# Make Some Data\n",
    "import numpy as np\n",
    "import pandas as pd\n",
    "np.random.seed(11)\n",
    "n = 12*10\n",
    "constant = 8\n",
    "slope = 0.7\n",
    "noise_weight = 1\n",
    "noise = noise_weight*np.random.normal(size=n)\n",
    "values = np.ones(n)\n",
    "data = []\n",
    "for i,x in enumerate(values):\n",
    "    data.append(constant + slope*(data[i-1]-constant) + noise[i] if i>1 else constant + slope + noise[i])\n",
    "date_vals = pd.date_range(start='1/1/2008', periods=n, freq='M')\n",
    "time_series =  pd.Series(data, index=date_vals)\n",
    "time_series.index = pd.DatetimeIndex(time_series.index)"
   ]
  },
  {
   "cell_type": "markdown",
   "metadata": {
    "hidden": true
   },
   "source": [
    "#### AR(2)\n",
    "\n",
    "Today = constant + slope_1 x yesterday + slope_2 x 2_days_ago + noise "
   ]
  },
  {
   "cell_type": "markdown",
   "metadata": {
    "heading_collapsed": true
   },
   "source": [
    "## MA Models "
   ]
  },
  {
   "cell_type": "markdown",
   "metadata": {
    "hidden": true
   },
   "source": [
    "The Moving Average model can be described as the weighted sum of today's and yesterday's noise.\n",
    "\n",
    "In words, the mathematical idea is the following:\n",
    "\n",
    "Today = Mean + Noise + Slope×yesterday's noise\n",
    " \n",
    "Or, mathematically:\n",
    "\n",
    "$$\\large 𝑌𝑡=𝜇+𝜖𝑡+𝜃∗𝜖𝑡−1$$"
   ]
  },
  {
   "cell_type": "code",
   "execution_count": 134,
   "metadata": {
    "hidden": true
   },
   "outputs": [],
   "source": [
    "# create data \n",
    "n = 12*10\n",
    "mu = 8\n",
    "theta = 0.9\n",
    "noise_weight = 1\n",
    "errors = noise_weight*np.random.normal(size=n)\n",
    "values = np.ones(n)\n",
    "data = []\n",
    "for i,x in enumerate(values):\n",
    "    data.append(mu + theta*errors[i-1] + errors[i] if i>1 else mu + errors[i])\n",
    "date_vals = pd.date_range(start='1/1/2008', periods=n, freq='M')\n",
    "time_series =  pd.Series(data, index=date_vals)\n",
    "time_series.index = pd.DatetimeIndex(time_series.index)"
   ]
  },
  {
   "cell_type": "markdown",
   "metadata": {},
   "source": [
    "## ARMA"
   ]
  },
  {
   "cell_type": "markdown",
   "metadata": {},
   "source": [
    "Combines both AR and MA components into one model.\n",
    "\n",
    "$$\\large𝑌𝑡 = 𝜇 + 𝜙∗𝑌𝑡−1 + 𝜃∗𝜖𝑡−1 + 𝜖𝑡$$"
   ]
  },
  {
   "cell_type": "code",
   "execution_count": 144,
   "metadata": {},
   "outputs": [],
   "source": [
    "# Make data\n",
    "n = 12*10\n",
    "mu = 8\n",
    "phi = 0.7\n",
    "theta = 0.9\n",
    "noise_weight = 1\n",
    "errors = noise_weight*np.random.normal(size=n)\n",
    "values = np.ones(n)\n",
    "data = []\n",
    "for i,x in enumerate(values):\n",
    "    data.append(mu + phi*(data[i-1]-mu) + errors[i] + theta*errors[i-1]  if i>1 else mu + phi + errors[i])\n",
    "date_vals = pd.date_range(start='1/1/2008', periods=n, freq='M')\n",
    "time_series =  pd.Series(data, index=date_vals)\n",
    "time_series.index = pd.DatetimeIndex(time_series.index)"
   ]
  },
  {
   "cell_type": "markdown",
   "metadata": {},
   "source": [
    "## ARIMA"
   ]
  },
  {
   "cell_type": "markdown",
   "metadata": {},
   "source": [
    "Combines AR and MA components as well as an <b> Integrated </b> component which accounts for trends.\n",
    "\n",
    "AR, MA, and ARMA models require stationarity. <br>\n",
    "ARIMA models can handle non-stationary time series due to the <b>I</b> component."
   ]
  },
  {
   "cell_type": "code",
   "execution_count": 150,
   "metadata": {},
   "outputs": [],
   "source": [
    "# create data\n",
    "n = 12*10\n",
    "mu = 8\n",
    "phi = 0.7\n",
    "theta = 0.9\n",
    "noise_weight = 1\n",
    "errors = noise_weight*np.random.normal(size=n)\n",
    "values = np.ones(n)\n",
    "data = []\n",
    "for i,x in enumerate(values):\n",
    "    data.append(mu + phi*(data[i-1]-mu) + errors[i] + theta*errors[i-1] + 0.05*i  if i>1 else mu + phi + errors[i])\n",
    "date_vals = pd.date_range(start='1/1/2008', periods=n, freq='M')\n",
    "time_series =  pd.Series(data, index=date_vals)\n",
    "time_series.index = pd.DatetimeIndex(time_series.index)"
   ]
  },
  {
   "cell_type": "markdown",
   "metadata": {},
   "source": [
    "## Finding Correct Value for ARIMA "
   ]
  },
  {
   "cell_type": "code",
   "execution_count": 172,
   "metadata": {},
   "outputs": [
    {
     "name": "stdout",
     "output_type": "stream",
     "text": [
      "(0, 1, 0) - AIC: 421.12590712736636\n",
      "(0, 1, 1) - AIC: 368.430487287069\n",
      "(1, 1, 0) - AIC: 404.1467176254963\n",
      "(1, 1, 1) - AIC: 369.71288922212284\n",
      "(1, 1, 2) - AIC: 357.4697965668273\n",
      "(2, 1, 0) - AIC: 372.5288681300175\n",
      "(2, 1, 1) - AIC: 369.14613615871866\n",
      "(2, 1, 2) - AIC: 358.9442380334676\n"
     ]
    }
   ],
   "source": [
    "p = [0, 1, 2]\n",
    "q = [0, 1, 2]\n",
    "\n",
    "for ar in p:\n",
    "    for ma in q:\n",
    "        try:\n",
    "            arima_model = ARIMA(time_series, order = (ar, 1, ma)).fit()\n",
    "            print(f'({ar}, 1, {ma}) - AIC: {arima_model.aic}')\n",
    "        except:\n",
    "            continue"
   ]
  },
  {
   "cell_type": "markdown",
   "metadata": {},
   "source": [
    "## ACF and PACF "
   ]
  },
  {
   "cell_type": "markdown",
   "metadata": {},
   "source": [
    "Auto-correlation function (ACF)\n",
    "\n",
    "- Measures relationship between points and various lags.\n",
    "\n",
    "Partial auto-correlation function (PACF)\n",
    "\n",
    "- Measures relationship between points and various lags without the influence of other lags."
   ]
  },
  {
   "cell_type": "markdown",
   "metadata": {},
   "source": [
    "| Plot | AR(p) | MA(q) | ARMA(p, q) | \n",
    "|------|-------|------|-------|\n",
    "| ACF    | Tails off | Cuts off after lag q   | Tails Off  | \n",
    "| PACF    | Cuts off after lag p  | Tails off   | Tails off  | "
   ]
  },
  {
   "cell_type": "markdown",
   "metadata": {},
   "source": [
    "Look at a AR(1) time series.  The PACF should show that it tails off after lag 1 "
   ]
  },
  {
   "cell_type": "code",
   "execution_count": 83,
   "metadata": {},
   "outputs": [],
   "source": [
    "# AR(1)\n",
    "n = 12*10\n",
    "constant = 8\n",
    "slope = 0.7\n",
    "noise_weight = 1\n",
    "noise = noise_weight*np.random.normal(size=n)\n",
    "values = np.ones(n)\n",
    "data = []\n",
    "for i,x in enumerate(values):\n",
    "    data.append(constant + slope*(data[i-1]-constant) + noise[i] if i>1 else constant + slope + noise[i])\n",
    "date_vals = pd.date_range(start='1/1/2008', periods=n, freq='M')\n",
    "time_series =  pd.Series(data, index=date_vals)\n",
    "time_series.index = pd.DatetimeIndex(time_series.index)"
   ]
  },
  {
   "cell_type": "code",
   "execution_count": 84,
   "metadata": {},
   "outputs": [
    {
     "data": {
      "image/png": "[encoded data removed]",
      "text/plain": [
       "<Figure size 432x288 with 1 Axes>"
      ]
     },
     "metadata": {
      "needs_background": "light"
     },
     "output_type": "display_data"
    },
    {
     "data": {
      "image/png": "[encoded data removed]",
      "text/plain": [
       "<Figure size 432x288 with 1 Axes>"
      ]
     },
     "metadata": {
      "needs_background": "light"
     },
     "output_type": "display_data"
    }
   ],
   "source": [
    "from statsmodels.graphics.tsaplots import plot_acf, plot_pacf\n",
    "plot_acf(time_series); plt.xlim(0,24); plt.show()\n",
    "plot_pacf(time_series); plt.xlim(0,24); plt.ylim(-1,1);plt.show()"
   ]
  },
  {
   "cell_type": "markdown",
   "metadata": {},
   "source": [
    "Now looking at a MA(1) model.  ACF should tail off after 1 lag "
   ]
  },
  {
   "cell_type": "code",
   "execution_count": 85,
   "metadata": {},
   "outputs": [],
   "source": [
    "n = 12*10\n",
    "mu = 8\n",
    "theta = 0.9\n",
    "noise_weight = 1\n",
    "errors = noise_weight*np.random.normal(size=n)\n",
    "values = np.ones(n)\n",
    "data = []\n",
    "for i,x in enumerate(values):\n",
    "    data.append(mu + theta*errors[i-1] + errors[i] if i>1 else mu + errors[i])\n",
    "date_vals = pd.date_range(start='1/1/2008', periods=n, freq='M')\n",
    "time_series =  pd.Series(data, index=date_vals)\n",
    "time_series.index = pd.DatetimeIndex(time_series.index)"
   ]
  },
  {
   "cell_type": "code",
   "execution_count": 86,
   "metadata": {},
   "outputs": [
    {
     "data": {
      "image/png": "[encoded data removed]",
      "text/plain": [
       "<Figure size 432x288 with 1 Axes>"
      ]
     },
     "metadata": {
      "needs_background": "light"
     },
     "output_type": "display_data"
    },
    {
     "data": {
      "image/png": "[encoded data removed]",
      "text/plain": [
       "<Figure size 432x288 with 1 Axes>"
      ]
     },
     "metadata": {
      "needs_background": "light"
     },
     "output_type": "display_data"
    }
   ],
   "source": [
    "plot_acf(time_series); plt.xlim(0,24); plt.show()\n",
    "plot_pacf(time_series); plt.xlim(0,24); plt.ylim(-1,1);plt.show()"
   ]
  }
 ],
 "metadata": {
  "kernelspec": {
   "display_name": "Python 3",
   "language": "python",
   "name": "python3"
  },
  "language_info": {
   "codemirror_mode": {
    "name": "ipython",
    "version": 3
   },
   "file_extension": ".py",
   "mimetype": "text/x-python",
   "name": "python",
   "nbconvert_exporter": "python",
   "pygments_lexer": "ipython3",
   "version": "3.6.9"
  }
 },
 "nbformat": 4,
 "nbformat_minor": 2
}
